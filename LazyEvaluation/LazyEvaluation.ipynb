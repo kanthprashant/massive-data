{
 "cells": [
  {
   "cell_type": "code",
   "execution_count": 1,
   "id": "fad07cb7-c1f3-431b-8de9-4e533d498f47",
   "metadata": {},
   "outputs": [
    {
     "data": {
      "text/plain": [
       "\"\\n author: Prashant Prasad Kanth\\n date: 20/09/2022 'MM/DD/YYY'\\n\""
      ]
     },
     "execution_count": 1,
     "metadata": {},
     "output_type": "execute_result"
    }
   ],
   "source": [
    "\"\"\"\n",
    " author: Prashant Prasad Kanth\n",
    " date: 20/09/2022 'MM/DD/YYY'\n",
    "\"\"\""
   ]
  },
  {
   "cell_type": "code",
   "execution_count": 2,
   "id": "3157cabc-3e6c-4c7b-b903-438ea167fbaa",
   "metadata": {},
   "outputs": [],
   "source": [
    "from pyspark.sql import SparkSession\n",
    "import math"
   ]
  },
  {
   "cell_type": "code",
   "execution_count": 3,
   "id": "2dfdeefd-3ac0-4d33-8513-c3ad1838eb9c",
   "metadata": {},
   "outputs": [],
   "source": [
    "spark = SparkSession.builder.appName(\"LazyEvaluation\").getOrCreate()\n",
    "sc = spark.sparkContext"
   ]
  },
  {
   "cell_type": "code",
   "execution_count": 4,
   "id": "26aa7161-0462-4bf0-8f7e-142b57282d98",
   "metadata": {},
   "outputs": [
    {
     "name": "stdout",
     "output_type": "stream",
     "text": [
      "ParallelCollectionRDD[0] at readRDDFromFile at PythonRDD.scala:274\n",
      "No. of partitions: 4\n"
     ]
    }
   ],
   "source": [
    "# create an rdd containing 100 numbers with 4 partitions\n",
    "data = [i for i in range(100)]\n",
    "data_rdd = sc.parallelize(data, 4)\n",
    "print(data_rdd)\n",
    "print(\"No. of partitions: {}\".format(data_rdd.getNumPartitions()))"
   ]
  },
  {
   "cell_type": "code",
   "execution_count": 5,
   "id": "7c57e93c-4e86-454b-9201-6ed0f30cf4f4",
   "metadata": {},
   "outputs": [
    {
     "name": "stdout",
     "output_type": "stream",
     "text": [
      "PythonRDD[1] at RDD at PythonRDD.scala:53\n",
      "Lazy Evaluation Execution plan:\n",
      " b'(4) PythonRDD[1] at RDD at PythonRDD.scala:53 []\\n |  ParallelCollectionRDD[0] at readRDDFromFile at PythonRDD.scala:274 []'\n"
     ]
    }
   ],
   "source": [
    "# Transformation: multiplying each number by 2\n",
    "transform_rdd = data_rdd.map(lambda x: x*2)\n",
    "print(transform_rdd)\n",
    "print(\"Lazy Evaluation Execution plan:\\n {}\".format(transform_rdd.toDebugString()))"
   ]
  },
  {
   "cell_type": "code",
   "execution_count": 6,
   "id": "7fb913d3-307f-43e2-a5f8-ee519a71a9e8",
   "metadata": {},
   "outputs": [
    {
     "name": "stdout",
     "output_type": "stream",
     "text": [
      "PythonRDD[2] at RDD at PythonRDD.scala:53\n",
      "Updated Lazy Evaluation Execution plan:\n",
      " b'(4) PythonRDD[2] at RDD at PythonRDD.scala:53 []\\n |  ParallelCollectionRDD[0] at readRDDFromFile at PythonRDD.scala:274 []'\n"
     ]
    }
   ],
   "source": [
    "# Add another transformation and check execution plan\n",
    "new_transform_rdd = transform_rdd.map(lambda x: x-2)\n",
    "print(new_transform_rdd)\n",
    "print(\"Updated Lazy Evaluation Execution plan:\\n {}\".format(new_transform_rdd.toDebugString()))"
   ]
  },
  {
   "cell_type": "code",
   "execution_count": 7,
   "id": "717ad33b-1ec7-4d60-96d1-c3ad7fcbd9e1",
   "metadata": {},
   "outputs": [
    {
     "name": "stdout",
     "output_type": "stream",
     "text": [
      "[-2, 0, 2, 4, 6, 8, 10, 12, 14, 16, 18, 20, 22, 24, 26, 28, 30, 32, 34, 36, 38, 40, 42, 44, 46, 48, 50, 52, 54, 56, 58, 60, 62, 64, 66, 68, 70, 72, 74, 76, 78, 80, 82, 84, 86, 88, 90, 92, 94, 96, 98, 100, 102, 104, 106, 108, 110, 112, 114, 116, 118, 120, 122, 124, 126, 128, 130, 132, 134, 136, 138, 140, 142, 144, 146, 148, 150, 152, 154, 156, 158, 160, 162, 164, 166, 168, 170, 172, 174, 176, 178, 180, 182, 184, 186, 188, 190, 192, 194, 196]\n"
     ]
    }
   ],
   "source": [
    "# Perform Action, all transformations gets executed now\n",
    "rdd_result = new_transform_rdd.collect()\n",
    "print(rdd_result)"
   ]
  },
  {
   "cell_type": "code",
   "execution_count": 8,
   "id": "8d6cf085-b150-4013-b243-349c3bd0fbfd",
   "metadata": {},
   "outputs": [],
   "source": [
    "sc.stop()"
   ]
  },
  {
   "cell_type": "code",
   "execution_count": null,
   "id": "3c48161a-c58a-4ac6-8d17-3f417971687e",
   "metadata": {},
   "outputs": [],
   "source": []
  }
 ],
 "metadata": {
  "kernelspec": {
   "display_name": "Spark 3 in Python 3",
   "language": "python",
   "name": "pyspark3"
  },
  "language_info": {
   "codemirror_mode": {
    "name": "ipython",
    "version": 3
   },
   "file_extension": ".py",
   "mimetype": "text/x-python",
   "name": "python",
   "nbconvert_exporter": "python",
   "pygments_lexer": "ipython3",
   "version": "3.9.5"
  }
 },
 "nbformat": 4,
 "nbformat_minor": 5
}
