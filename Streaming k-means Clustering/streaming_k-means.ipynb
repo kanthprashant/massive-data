{
 "cells": [
  {
   "attachments": {},
   "cell_type": "markdown",
   "id": "c9d7c796-5653-46d7-babc-283eee122780",
   "metadata": {},
   "source": [
    "`Report Title:` k-Means Streaming and Clustering Queries </br>\n",
    "`Date:` Oct 1, 2022 </br>\n",
    "`Author:` Prashant Prasad Kanth </br>"
   ]
  },
  {
   "cell_type": "code",
   "execution_count": 8,
   "id": "be93c820-9a32-43ca-b5cb-32480f965cad",
   "metadata": {},
   "outputs": [],
   "source": [
    "import re\n",
    "import os\n",
    "import time\n",
    "import shutil\n",
    "from pyspark.context import SparkContext\n",
    "from pyspark.streaming import StreamingContext\n",
    "from pyspark.mllib.linalg import Vectors\n",
    "from pyspark.mllib.clustering import StreamingKMeans"
   ]
  },
  {
   "cell_type": "code",
   "execution_count": null,
   "id": "3b439a2d-a24e-47e6-b961-f9a124f013f6",
   "metadata": {},
   "outputs": [],
   "source": [
    "group_number = 4\n",
    "dataset = 'dataset'\n",
    "files = {'centers':'centers.txt',\n",
    "         'data':'data.txt',\n",
    "         'testdata':'testdata.txt'}\n",
    "converted = 'dataset/converted'\n",
    "outpath = 'results'"
   ]
  },
  {
   "cell_type": "markdown",
   "id": "19b900c1-d76a-4638-8cf6-6c16544fa7d1",
   "metadata": {},
   "source": [
    "#### make one pass of \"data.txt\", \"centers.txt\", and \"testdata.txt\", and multiply `-1` on the **i-th** column in each file, where **i** is your group number `group_number:4`, hence updating column `3`, as index starts from `0`"
   ]
  },
  {
   "cell_type": "code",
   "execution_count": null,
   "id": "ddf8aed6-eecf-4f7d-8e05-135ac12a95b1",
   "metadata": {},
   "outputs": [],
   "source": [
    "# parse line and multiply column 3 by -1\n",
    "def parse(line, group_number):\n",
    "    col = 0\n",
    "    vals = []\n",
    "    for x in (re.sub(\"[\\[\\]]\", \"\", line).split(\",\")):\n",
    "        if col == group_number-1:\n",
    "            vals.append(-1*float(x))\n",
    "        else:\n",
    "            vals.append(float(x))\n",
    "        col += 1\n",
    "    return vals"
   ]
  },
  {
   "cell_type": "code",
   "execution_count": null,
   "id": "3e8e2d3d-064b-4133-9eba-1825bff4dc95",
   "metadata": {},
   "outputs": [],
   "source": [
    "sc = SparkContext.getOrCreate()\n",
    "os.makedirs(converted, exist_ok=True)\n",
    "# process all files one by one\n",
    "for file in files.values():\n",
    "    # get path of file to be processes\n",
    "    path = os.path.join(dataset,file)\n",
    "    filename = path.split('/')[-1]\n",
    "    newFolder = filename.split('.')[0]\n",
    "    # get destination path for converted files\n",
    "    outpath = os.path.join(converted, newFolder)\n",
    "    data = sc.textFile(path)\n",
    "    parsed = data.map(lambda line: parse(line, group_number))\n",
    "    # write data in file\n",
    "    parsed.coalesce(1).saveAsTextFile(outpath)\n",
    "    source = os.path.join(outpath, 'part-00000')\n",
    "    destination = os.path.join(converted, filename)\n",
    "    # rename system generated file 'part-00000' and move to converted folder\n",
    "    shutil.move(source, destination)\n",
    "    # delete system generated folder by spark\n",
    "    shutil.rmtree(outpath)"
   ]
  },
  {
   "cell_type": "markdown",
   "id": "e2d8d812-7486-433d-aab0-8a98deb41a8a",
   "metadata": {},
   "source": [
    "## Streaming K means clustering"
   ]
  },
  {
   "cell_type": "code",
   "execution_count": null,
   "id": "abef0480-c92d-4996-a73d-97f9e9404133",
   "metadata": {},
   "outputs": [],
   "source": [
    "def parser(line):\n",
    "    return Vectors.dense(line[line.find('[') + 1: line.find(']')].split(','))"
   ]
  },
  {
   "cell_type": "code",
   "execution_count": null,
   "id": "49318399-c51a-4f1b-b3e8-a4230433147d",
   "metadata": {},
   "outputs": [],
   "source": [
    "# write predictions in a file\n",
    "def capturePredictions(rdd, testData, resPath, decay):\n",
    "    os.makedirs(resPath, exist_ok=True)\n",
    "    ccenters = rdd.collect()\n",
    "    testDataSet = testData.collect()\n",
    "    with open(f\"{resPath}/Group4_HW2_task1_test_data_output_{decay}.txt\", 'a+') as o:\n",
    "        for c, d in zip(ccenters, testDataSet):\n",
    "            o.write(f\"({c}){d.tolist()}\\n\")"
   ]
  },
  {
   "cell_type": "code",
   "execution_count": null,
   "id": "c9167d81-238a-484a-bb68-af634a93d017",
   "metadata": {},
   "outputs": [],
   "source": [
    "# write final centers and cost in a file\n",
    "def writeFiles(model, testData, resPath, decay):\n",
    "    os.makedirs(resPath, exist_ok=True)\n",
    "    clusterCenters = model._model.clusterCenters\n",
    "\n",
    "    with open(os.path.join(resPath, f'Group4_HW2_task1_cost.txt'),'a+') as c:\n",
    "        # c.write(f'decayRate: {decay}\\t')\n",
    "        c.write(f'Cost = [{model._model.computeCost(testData)}]\\n')\n",
    "    \n",
    "    with open(os.path.join(resPath, f'Group4_HW2_task1_cluster_centers.txt'),'a+') as ctr:\n",
    "        # ctr.write(f'decayRate: {decay}\\n')\n",
    "        for i, center in enumerate(clusterCenters):\n",
    "            ctr.write(f'({i}){center.tolist()}\\n')"
   ]
  },
  {
   "cell_type": "markdown",
   "id": "2934bba6-cb02-4f47-8040-a430a97318b6",
   "metadata": {},
   "source": [
    "#### Approach 1: `queueStream`"
   ]
  },
  {
   "cell_type": "code",
   "execution_count": null,
   "id": "abda5c11-1389-4b60-bb33-986541fcb212",
   "metadata": {},
   "outputs": [],
   "source": [
    "# get spark context and streaming context\n",
    "sc = SparkContext.getOrCreate()\n",
    "ssc = StreamingContext(sc, 1)\n",
    "resPath = 'dataset/results/queueStream'\n",
    "decay = 0.75\n",
    "\n",
    "# get initial center data into rdd\n",
    "initCenters = sc.textFile(os.path.join(converted, files['centers'])).map(parser).collect()\n",
    "k = len(initCenters)\n",
    "# initialize weights for each center point\n",
    "initWeights = [1. for i in range(k)]\n",
    "# initialize StreamingKMeans model\n",
    "model = StreamingKMeans(k=k, decayFactor=decay).setInitialCenters(centers=initCenters, weights=initWeights)\n",
    "\n",
    "# get train and test data into rdd\n",
    "trainData = sc.textFile(os.path.join(converted, files['data'])).map(parser)\n",
    "testData = sc.textFile(os.path.join(converted, files['testdata'])).map(parser)\n",
    "\n",
    "# create training windowed stream\n",
    "trainingQueue = [trainData]\n",
    "trainingStream = ssc.queueStream(trainingQueue)\n",
    "trainingStreamWindow = trainingStream.window(10000)\n",
    "\n",
    "# create test stream\n",
    "testingQueue = [testData]\n",
    "testingStream = ssc.queueStream(testingQueue)\n",
    "\n",
    "# put model on training mode\n",
    "model.trainOn(trainingStreamWindow)\n",
    "\n",
    "# make predictions on test data after training\n",
    "predictions = model.predictOn(testingStream)\n",
    "predictions.foreachRDD(lambda rdd: capturePredictions(rdd, testData, resPath, decay))\n",
    "\n",
    "# start streaming context\n",
    "ssc.start()\n",
    "ssc.awaitTerminationOrTimeout(10)\n",
    "# stop streaming context after processing\n",
    "ssc.stop(stopSparkContext=False, stopGraceFully=True)\n",
    "\n",
    "# write final results to a file \n",
    "writeFiles(model, testData, resPath, decay)\n",
    "\n",
    "print(f\"Processed for decayFactor: {decay}\")"
   ]
  },
  {
   "cell_type": "code",
   "execution_count": 4,
   "id": "e13e5e9e-1bb9-4833-b1d0-1b63b3083d7e",
   "metadata": {},
   "outputs": [],
   "source": [
    "# move files to outer directory path\n",
    "for file in os.listdir(resPath):\n",
    "    shutil.move(os.path.join(resPath, file), os.path.join(outpath, 'queueStream', file))\n",
    "shutil.rmtree(resPath)"
   ]
  },
  {
   "cell_type": "markdown",
   "id": "27ccd0d8-7f3c-43fa-814d-34399d6ec7df",
   "metadata": {},
   "source": [
    "#### Approach 2: `textFileStream`"
   ]
  },
  {
   "cell_type": "markdown",
   "id": "40ca5dc7-2140-4cb8-8a5f-a2ab7cc2f1c3",
   "metadata": {},
   "source": [
    "#### Start writing new files for streaming"
   ]
  },
  {
   "cell_type": "code",
   "execution_count": null,
   "id": "8e1e0a8d-060c-4a23-bad9-cd2070b0a9e7",
   "metadata": {},
   "outputs": [],
   "source": [
    "# write a new file containing 10000 data points at a interval of 1 second\n",
    "def writeFileStream(readStreamPath):\n",
    "    os.makedirs(readStreamPath, exist_ok=True)\n",
    "    fpath = readStreamPath.split('/data')[0]\n",
    "    with open(os.path.join(fpath, 'data.txt'), 'r') as f:\n",
    "        i = 0\n",
    "        count = 0\n",
    "        filecount = 0\n",
    "        s = []\n",
    "        for line in f:\n",
    "            i += 1\n",
    "            s.append(line)\n",
    "            if i%10000 == 0:\n",
    "                with open(f\"{readStreamPath}/data-{filecount}.txt\", 'w') as g:\n",
    "                    for l in s:\n",
    "                        g.write(l)\n",
    "                count += i\n",
    "                filecount += 1\n",
    "                i = 0\n",
    "                s = []\n",
    "                time.sleep(1)"
   ]
  },
  {
   "cell_type": "code",
   "execution_count": null,
   "id": "3f8a7059-5261-4fa4-aadf-bcbdc9098556",
   "metadata": {},
   "outputs": [],
   "source": [
    "readStreamPath = 'dataset/converted/data'\n",
    "resPath = 'dataset/results/textFileStream'\n",
    "sc = SparkContext.getOrCreate()\n",
    "initCenters = sc.textFile(os.path.join(converted, files['centers'])).map(parser).collect()\n",
    "k = len(initCenters)\n",
    "initWeights = [1. for i in range(k)]\n",
    "trainData = sc.textFile(os.path.join(converted, files['data'])).map(parser)\n",
    "testData = sc.textFile(os.path.join(converted, files['testdata'])).map(parser)\n",
    "\n",
    "# run streaming k-means for different decay factors (1.0, 0.75, 0.5, 0.25, 0.0)\n",
    "for d in range(16, -1, -4):\n",
    "    ssc = StreamingContext(sc, 1)\n",
    "    initCenters = sc.textFile(os.path.join(converted, files['centers'])).map(parser).collect()\n",
    "    k = len(initCenters)\n",
    "    initWeights = [1. for i in range(k)]\n",
    "    decay = d/16\n",
    "    \n",
    "    model = StreamingKMeans(k=k, decayFactor=decay).setInitialCenters(centers=initCenters, weights=initWeights)\n",
    "\n",
    "    fileStream = ssc.textFileStream(readStreamPath)\n",
    "    trainingStream = fileStream.map(lambda row: Vectors.parse(row))\n",
    "    \n",
    "    model.trainOn(trainingStream)\n",
    "    \n",
    "    testDataStream = ssc.queueStream([testData])\n",
    "    predictions = model.predictOn(testDataStream)\n",
    "    predictions.foreachRDD(lambda rdd: capturePredictions(rdd, testData, resPath, decay))\n",
    "    \n",
    "    # start streaming context\n",
    "    ssc.start()\n",
    "    # start writing files in streaming fashion\n",
    "    writeFileStream(readStreamPath)\n",
    "    ssc.awaitTerminationOrTimeout(5)\n",
    "    ssc.stop(stopSparkContext=False, stopGraceFully=True)\n",
    "    # remove folder containing streaming data after processing\n",
    "    shutil.rmtree(readStreamPath)\n",
    "    \n",
    "    # write files to results folder\n",
    "    writeFiles(model, testData, resPath, decay)\n",
    "    print(f\"Processed for decayFactor: {decay}\")"
   ]
  },
  {
   "cell_type": "code",
   "execution_count": 9,
   "id": "f5fca5ac-a6b3-4194-b998-149ee1cb7031",
   "metadata": {},
   "outputs": [],
   "source": [
    "# move files to outer directory path\n",
    "for file in os.listdir(resPath):\n",
    "    shutil.move(os.path.join(resPath, file), os.path.join(outpath, 'textFileStream', file))\n",
    "shutil.rmtree(resPath)"
   ]
  },
  {
   "cell_type": "code",
   "execution_count": null,
   "id": "a3a69107-0ae1-468a-8bf7-3175224c4895",
   "metadata": {},
   "outputs": [],
   "source": []
  }
 ],
 "metadata": {
  "kernelspec": {
   "display_name": "base",
   "language": "python",
   "name": "python3"
  },
  "language_info": {
   "codemirror_mode": {
    "name": "ipython",
    "version": 3
   },
   "file_extension": ".py",
   "mimetype": "text/x-python",
   "name": "python",
   "nbconvert_exporter": "python",
   "pygments_lexer": "ipython3",
   "version": "3.9.10 | packaged by conda-forge | (main, Feb  1 2022, 21:27:43) \n[Clang 11.1.0 ]"
  },
  "vscode": {
   "interpreter": {
    "hash": "6deba854f73701cf96f67599d2e89ceb358b45b5aeac6b72dc7e48ba0a56f3a4"
   }
  }
 },
 "nbformat": 4,
 "nbformat_minor": 5
}
