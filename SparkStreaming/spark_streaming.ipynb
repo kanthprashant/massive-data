{
 "cells": [
  {
   "cell_type": "code",
   "execution_count": null,
   "id": "89c9a9c7-df7a-4061-b33e-2df0dc515f12",
   "metadata": {},
   "outputs": [],
   "source": [
    "\"\"\"\n",
    " author: Prashant Prasad Kanth\n",
    " date: 20/09/2022 'MM/DD/YYY'\n",
    "\"\"\""
   ]
  },
  {
   "cell_type": "code",
   "execution_count": null,
   "id": "7534d156-3631-40f3-8b6f-a971f350122f",
   "metadata": {},
   "outputs": [],
   "source": [
    "from pyspark.sql import SparkSession\n",
    "from pyspark.streaming import StreamingContext\n",
    "import re"
   ]
  },
  {
   "cell_type": "code",
   "execution_count": null,
   "id": "59168b57-6dbc-4b13-ad9a-c3021a7e0319",
   "metadata": {},
   "outputs": [],
   "source": [
    "spark = SparkSession.builder.appName(\"SparkStreaming\").getOrCreate()\n",
    "sc = spark.sparkContext\n",
    "ssc = StreamingContext(sc, 1)"
   ]
  },
  {
   "cell_type": "code",
   "execution_count": null,
   "id": "dedbbdd8-4048-4088-bc1d-25522d4dcfa1",
   "metadata": {},
   "outputs": [],
   "source": [
    "def parse(line):\n",
    "    match=re.search(\"Dm=(\\d+)\",line) # Search for required match condition \n",
    "    if match: # if there is a match\n",
    "        val=match.group(1)\n",
    "        return [int(val)] # return that value as a list of one element \n",
    "    return [] # else return none"
   ]
  },
  {
   "cell_type": "code",
   "execution_count": null,
   "id": "bb743ac5-4daa-44ce-9f55-39fa8a13316b",
   "metadata": {},
   "outputs": [],
   "source": [
    "def display(rdd, name, sep):\n",
    "        print(f\"{name}: {rdd.collect()[0]}\", end=sep)"
   ]
  },
  {
   "cell_type": "code",
   "execution_count": null,
   "id": "779b8cfd-503a-47ec-9eaf-91d31ca6c33e",
   "metadata": {},
   "outputs": [],
   "source": [
    "def stats():\n",
    "    # perform required transformations to calculate stats of a window\n",
    "    minValue = windowData.reduce(lambda a, b: min(a, b))\n",
    "    maxValue = windowData.reduce(lambda a, b: max(a, b))\n",
    "    average = windowData.map(lambda a: (a, 1))\\\n",
    "                        .reduce(lambda a, b: (a[0] + b[0] , a[1]+b[1]))\\\n",
    "                        .map(lambda a: a[0]/a[1])\n",
    "    # print the stats\n",
    "    minValue.foreachRDD(lambda rdd: display(rdd, 'min', sep=\", \"))\n",
    "    maxValue.foreachRDD(lambda rdd: display(rdd, 'max', sep=\", \"))\n",
    "    average.foreachRDD(lambda rdd: display(rdd, 'avg', sep=\"\\n\"))"
   ]
  },
  {
   "cell_type": "code",
   "execution_count": null,
   "id": "182e7cdb-ed2d-4700-8b0a-5b8985288200",
   "metadata": {},
   "outputs": [],
   "source": [
    "lines = ssc.socketTextStream(\"ip\",\"portnumber\") # replace ip and portnumber with appropriate values\n",
    "vals = lines.flatMap(parse)\n",
    "# get a window of size 10 and sliding interval 5\n",
    "windowData = vals.window(10, 5)\n",
    "# print contents in a window\n",
    "windowData.pprint()\n",
    "stats()"
   ]
  },
  {
   "cell_type": "code",
   "execution_count": null,
   "id": "257f1b2e-a845-4845-a181-c27ea9052182",
   "metadata": {},
   "outputs": [],
   "source": [
    "ssc.start()\n",
    "ssc.awaitTermination()"
   ]
  },
  {
   "cell_type": "code",
   "execution_count": null,
   "id": "70b2403f-09b4-480c-8cfe-491bc65cc910",
   "metadata": {},
   "outputs": [],
   "source": [
    "ssc.stop()"
   ]
  },
  {
   "cell_type": "code",
   "execution_count": null,
   "id": "8521e7e2-9a52-4282-ad80-d930ff4d1e2f",
   "metadata": {},
   "outputs": [],
   "source": []
  }
 ],
 "metadata": {
  "kernelspec": {
   "display_name": "Python 3.9.10 ('base')",
   "language": "python",
   "name": "python3"
  },
  "language_info": {
   "codemirror_mode": {
    "name": "ipython",
    "version": 3
   },
   "file_extension": ".py",
   "mimetype": "text/x-python",
   "name": "python",
   "nbconvert_exporter": "python",
   "pygments_lexer": "ipython3",
   "version": "3.9.10"
  },
  "vscode": {
   "interpreter": {
    "hash": "6deba854f73701cf96f67599d2e89ceb358b45b5aeac6b72dc7e48ba0a56f3a4"
   }
  }
 },
 "nbformat": 4,
 "nbformat_minor": 5
}
