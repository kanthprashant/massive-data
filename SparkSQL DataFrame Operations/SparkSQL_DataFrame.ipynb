{
 "cells": [
  {
   "cell_type": "code",
   "execution_count": 1,
   "id": "8ae171b5-0cc5-4c2a-a953-5401e70a7de2",
   "metadata": {},
   "outputs": [
    {
     "data": {
      "text/plain": [
       "\"\\n author: Prashant Prasad Kanth\\n date: 20/09/2022 'MM/DD/YYY'\\n\""
      ]
     },
     "execution_count": 1,
     "metadata": {},
     "output_type": "execute_result"
    }
   ],
   "source": [
    "\"\"\"\n",
    " author: Prashant Prasad Kanth\n",
    " date: 20/09/2022 'MM/DD/YYY'\n",
    "\"\"\""
   ]
  },
  {
   "cell_type": "code",
   "execution_count": 2,
   "id": "d1421632-fbab-439f-8c53-c3dce468fce7",
   "metadata": {},
   "outputs": [],
   "source": [
    "from pyspark.sql import SparkSession\n",
    "from pyspark.sql.functions import count, col, when, isnan"
   ]
  },
  {
   "cell_type": "code",
   "execution_count": 3,
   "id": "b8b6c230-122f-4edb-bb6b-5e88969ab02b",
   "metadata": {},
   "outputs": [],
   "source": [
    "spark = SparkSession.builder.appName(\"Task3\").getOrCreate()\n",
    "sc = spark.sparkContext"
   ]
  },
  {
   "cell_type": "code",
   "execution_count": 4,
   "id": "882101cd-a811-4ad2-9b63-46372616a75b",
   "metadata": {},
   "outputs": [],
   "source": [
    "csvpaths = ['csv/state-abbreviation-edited.csv', 'csv/state-abbreviation.csv'\n",
    "           ,'csv/state-area.csv', 'csv/state-population.csv']\n",
    "dataframes = []\n",
    "for path in csvpaths:\n",
    "    df = spark.read.option(\"header\", True).csv(path)\n",
    "    dataframes.append(df)\n",
    "    view_name = path.split('/')[-1].split('.csv')[0].replace('-','_')\n",
    "    df.createOrReplaceTempView(view_name)\n",
    "\n",
    "# dataframes[0] => state-abbreviation-edited dataframe\n",
    "# viewname => state_abbreviation_edited\n",
    "# dataframes[1] => state-abbreviation dataframe\n",
    "# viewname => state_abbreviation\n",
    "# dataframes[2] => state-area dataframe\n",
    "# viewname => state_area\n",
    "# dataframes[3] => state-population dataframe\n",
    "# viewname => state_population"
   ]
  },
  {
   "cell_type": "markdown",
   "id": "b638ba32-ab55-476d-a6de-5488c1a19691",
   "metadata": {},
   "source": [
    "#### Q1. Check for null values in each column in all the files and report the null value count for each"
   ]
  },
  {
   "cell_type": "code",
   "execution_count": 5,
   "id": "d7bc9277-7b04-4ae3-90ab-fac1a64c93db",
   "metadata": {},
   "outputs": [
    {
     "name": "stdout",
     "output_type": "stream",
     "text": [
      "Null/NaN values for csv/state-abbreviation-edited.csv\n",
      "+-----+------------+\n",
      "|state|abbreviation|\n",
      "+-----+------------+\n",
      "|    0|           0|\n",
      "+-----+------------+\n",
      "\n",
      "Null/NaN values for csv/state-abbreviation.csv\n",
      "+-----+------------+\n",
      "|state|abbreviation|\n",
      "+-----+------------+\n",
      "|    0|           0|\n",
      "+-----+------------+\n",
      "\n",
      "Null/NaN values for csv/state-area.csv\n",
      "+-----+----+\n",
      "|state|area|\n",
      "+-----+----+\n",
      "|    0|   0|\n",
      "+-----+----+\n",
      "\n",
      "Null/NaN values for csv/state-population.csv\n",
      "+-----+----+----+----------+\n",
      "|state|ages|year|population|\n",
      "+-----+----+----+----------+\n",
      "|    0|   0|   0|        20|\n",
      "+-----+----+----+----------+\n",
      "\n"
     ]
    }
   ],
   "source": [
    "for df, path in zip(dataframes, csvpaths):\n",
    "    print('Null/NaN values for {}'.format(path))\n",
    "    df.select([count(when(isnan(c) | col(c).isNull(), c)).alias(c) for c in df.columns]).show()"
   ]
  },
  {
   "cell_type": "markdown",
   "id": "1efc47d2-54be-44ae-9f48-9fa7b3792f86",
   "metadata": {},
   "source": [
    "#### Q2. Report the \"total\" population of New Jersey from 2001-2010"
   ]
  },
  {
   "cell_type": "code",
   "execution_count": 6,
   "id": "21352470-dc9d-45f3-bd56-546e86d98c62",
   "metadata": {},
   "outputs": [],
   "source": [
    "# dataframes[3].filter((col(\"state\") == \"NJ\") & (col(\"year\").cast('int').between(2001, 2010))).show()"
   ]
  },
  {
   "cell_type": "code",
   "execution_count": 7,
   "id": "a4602a57-33ea-4b6a-84b2-e4eb3eda0a7d",
   "metadata": {},
   "outputs": [
    {
     "name": "stdout",
     "output_type": "stream",
     "text": [
      "+-----+-----+----+----------+\n",
      "|state| ages|year|population|\n",
      "+-----+-----+----+----------+\n",
      "|   NJ|total|2001|   8492671|\n",
      "|   NJ|total|2002|   8552643|\n",
      "|   NJ|total|2003|   8601402|\n",
      "|   NJ|total|2004|   8634561|\n",
      "|   NJ|total|2005|   8651974|\n",
      "|   NJ|total|2006|   8661679|\n",
      "|   NJ|total|2007|   8677885|\n",
      "|   NJ|total|2008|   8711090|\n",
      "|   NJ|total|2009|   8755602|\n",
      "|   NJ|total|2010|   8802707|\n",
      "+-----+-----+----+----------+\n",
      "\n"
     ]
    }
   ],
   "source": [
    "query = \"\"\"\n",
    "        SELECT * \n",
    "        FROM state_population\n",
    "        WHERE state = 'NJ'\n",
    "        and year between 2001 and 2010\n",
    "        and ages = 'total'\n",
    "        order by year\n",
    "        \"\"\"\n",
    "sqlDF = spark.sql(query)\n",
    "sqlDF.show()"
   ]
  },
  {
   "cell_type": "markdown",
   "id": "3fb398c6-5919-4e2f-b768-ef91311e56db",
   "metadata": {},
   "source": [
    "#### Q3. For the year of 199x (x being the last digit of your NetId), merge “states-area.csv” and “state-population.csv” to get the state wide area and population for the desired year, and compute the state wide area per person for each state. [last digit of netid = 1], `year=1991`"
   ]
  },
  {
   "cell_type": "code",
   "execution_count": 8,
   "id": "422b3a5a-0931-42b0-abf1-a81b9e4b374d",
   "metadata": {},
   "outputs": [
    {
     "name": "stdout",
     "output_type": "stream",
     "text": [
      "rows: 41\n",
      "+----+-----+------+----------+---------------+\n",
      "|year|state|  area|population|area_per_person|\n",
      "+----+-----+------+----------+---------------+\n",
      "|1991|   AL| 52423|   4099156|        0.01279|\n",
      "|1991|   AK|656425|    570193|        1.15123|\n",
      "|1991|   AZ|114006|   3788576|        0.03009|\n",
      "|1991|   AR| 53182|   2383144|        0.02232|\n",
      "|1991|   CA|163707|  30470736|        0.00537|\n",
      "|1991|   CO|104100|   3387119|        0.03073|\n",
      "|1991|   CT|  5544|   3302895|        0.00168|\n",
      "|1991|   DE|  1954|    683080|        0.00286|\n",
      "|1991|   DC|    68|    600870|         1.1E-4|\n",
      "|1991|   FL| 65758|  13369798|        0.00492|\n",
      "|1991|   GA| 59441|   6653005|        0.00893|\n",
      "|1991|   HI| 10932|   1136754|        0.00962|\n",
      "|1991|   ID| 83574|   1041316|        0.08026|\n",
      "|1991|   IL| 57918|  11568964|        0.00501|\n",
      "|1991|   IN| 36420|   5616388|        0.00648|\n",
      "|1991|   IA| 56276|   2797613|        0.02012|\n",
      "|1991|   KS| 82282|   2498722|        0.03293|\n",
      "|1991|   KY| 40411|   3722328|        0.01086|\n",
      "|1991|   LA| 51843|   4253279|        0.01219|\n",
      "|1991|   ME| 35387|   1237081|        0.02861|\n",
      "|1991|   MD| 12407|   4867641|        0.00255|\n",
      "|1991|   MA| 10555|   6018470|        0.00175|\n",
      "|1991|   MI| 96810|   9400446|         0.0103|\n",
      "|1991|   MN| 86943|   4440859|        0.01958|\n",
      "|1991|   MS| 48434|   2598733|        0.01864|\n",
      "|1991|   MO| 69709|   5170800|        0.01348|\n",
      "|1991|   MT|147046|    809680|        0.18161|\n",
      "|1991|   NE| 77358|   1595919|        0.04847|\n",
      "|1991|   NV|110567|   1296172|         0.0853|\n",
      "|1991|   NH|  9351|   1109929|        0.00842|\n",
      "|1991|   NJ|  8722|   7814676|        0.00112|\n",
      "|1991|   NM|121593|   1555305|        0.07818|\n",
      "|1991|   NY| 54475|  18122510|        0.00301|\n",
      "|1991|   NC| 53821|   6784280|        0.00793|\n",
      "|1991|   ND| 70704|    635753|        0.11121|\n",
      "|1991|   OH| 44828|  10945762|         0.0041|\n",
      "|1991|   OK| 69903|   3175440|        0.02201|\n",
      "|1991|   OR| 98386|   2928507|         0.0336|\n",
      "|1991|   PA| 46058|  11982164|        0.00384|\n",
      "|1991|   RI|  1545|   1010649|        0.00153|\n",
      "|1991|   SC| 32007|   3570404|        0.00896|\n",
      "+----+-----+------+----------+---------------+\n",
      "\n"
     ]
    }
   ],
   "source": [
    "query = \"\"\"\n",
    "        SELECT sp.year\n",
    "              ,sp.state\n",
    "              ,sa.area\n",
    "              ,sp.population\n",
    "              ,round(INT(sa.area)/INT(sp.population), 5) as area_per_person\n",
    "        FROM state_abbreviation sab\n",
    "            ,state_population sp\n",
    "            ,state_area sa\n",
    "        WHERE 1=1\n",
    "        and sab.abbreviation = sp.state\n",
    "        and sab.state = sa.state\n",
    "        and sp.year = 1991\n",
    "        and sp.ages = 'total'\n",
    "        \"\"\"\n",
    "sqlDF = spark.sql(query)\n",
    "rows = sqlDF.count()\n",
    "print(f\"rows: {rows}\")\n",
    "sqlDF.show(rows)"
   ]
  },
  {
   "cell_type": "markdown",
   "id": "2bc6b169-a892-4cc4-a4c7-090fd5df65a3",
   "metadata": {},
   "source": [
    "#### Q4. For the year of 199x (x being the last digit of your NetId), merge “states-area.csv” and “state-population.csv” with the help of “state-abbrievations-edited.csv” to get the state wide area and population for the desired year, and compute the state wide area per person for each state. [last digit of netid = 1], `year=1991`"
   ]
  },
  {
   "cell_type": "code",
   "execution_count": 9,
   "id": "02890387-07e2-4ec0-a761-d8cdc7582812",
   "metadata": {},
   "outputs": [
    {
     "name": "stdout",
     "output_type": "stream",
     "text": [
      "rows: 42\n",
      "+----+-----+------+----------+---------------+\n",
      "|year|state|  area|population|area_per_person|\n",
      "+----+-----+------+----------+---------------+\n",
      "|1991|   AL| 52423|   4099156|        0.01279|\n",
      "|1991|   AK|656425|    570193|        1.15123|\n",
      "|1991|   AZ|114006|   3788576|        0.03009|\n",
      "|1991|   AR| 53182|   2383144|        0.02232|\n",
      "|1991|   CA|163707|  30470736|        0.00537|\n",
      "|1991|   CO|104100|   3387119|        0.03073|\n",
      "|1991|   CT|  5544|   3302895|        0.00168|\n",
      "|1991|   DE|  1954|    683080|        0.00286|\n",
      "|1991|   DC|    68|    600870|         1.1E-4|\n",
      "|1991|   FL| 65758|  13369798|        0.00492|\n",
      "|1991|   GA| 59441|   6653005|        0.00893|\n",
      "|1991|   HI| 10932|   1136754|        0.00962|\n",
      "|1991|   ID| 83574|   1041316|        0.08026|\n",
      "|1991|   IL| 57918|  11568964|        0.00501|\n",
      "|1991|   IN| 36420|   5616388|        0.00648|\n",
      "|1991|   IA| 56276|   2797613|        0.02012|\n",
      "|1991|   KS| 82282|   2498722|        0.03293|\n",
      "|1991|   KY| 40411|   3722328|        0.01086|\n",
      "|1991|   LA| 51843|   4253279|        0.01219|\n",
      "|1991|   ME| 35387|   1237081|        0.02861|\n",
      "|1991|   MD| 12407|   4867641|        0.00255|\n",
      "|1991|   MA| 10555|   6018470|        0.00175|\n",
      "|1991|   MI| 96810|   9400446|         0.0103|\n",
      "|1991|   MN| 86943|   4440859|        0.01958|\n",
      "|1991|   MS| 48434|   2598733|        0.01864|\n",
      "|1991|   MO| 69709|   5170800|        0.01348|\n",
      "|1991|   MT|147046|    809680|        0.18161|\n",
      "|1991|   NE| 77358|   1595919|        0.04847|\n",
      "|1991|   NV|110567|   1296172|         0.0853|\n",
      "|1991|   NH|  9351|   1109929|        0.00842|\n",
      "|1991|   NJ|  8722|   7814676|        0.00112|\n",
      "|1991|   NM|121593|   1555305|        0.07818|\n",
      "|1991|   NY| 54475|  18122510|        0.00301|\n",
      "|1991|   NC| 53821|   6784280|        0.00793|\n",
      "|1991|   ND| 70704|    635753|        0.11121|\n",
      "|1991|   OH| 44828|  10945762|         0.0041|\n",
      "|1991|   OK| 69903|   3175440|        0.02201|\n",
      "|1991|   OR| 98386|   2928507|         0.0336|\n",
      "|1991|   PA| 46058|  11982164|        0.00384|\n",
      "|1991|   RI|  1545|   1010649|        0.00153|\n",
      "|1991|   SC| 32007|   3570404|        0.00896|\n",
      "|1991|   PR|  3515|       NaN|           null|\n",
      "+----+-----+------+----------+---------------+\n",
      "\n"
     ]
    }
   ],
   "source": [
    "query = \"\"\"\n",
    "        SELECT sp.year\n",
    "              ,sp.state\n",
    "              ,sa.area\n",
    "              ,sp.population\n",
    "              ,round(INT(sa.area)/INT(sp.population), 5) as area_per_person\n",
    "        FROM state_abbreviation_edited sae\n",
    "            ,state_population sp\n",
    "            ,state_area sa\n",
    "        WHERE 1=1\n",
    "        and sae.abbreviation = sp.state\n",
    "        and sae.state = sa.state\n",
    "        and sp.year = 1991\n",
    "        and sp.ages = 'total'\n",
    "        \"\"\"\n",
    "sqlDF = spark.sql(query)\n",
    "rows = sqlDF.count()\n",
    "print(f\"rows: {rows}\")\n",
    "sqlDF.show(rows)"
   ]
  },
  {
   "cell_type": "code",
   "execution_count": 10,
   "id": "4d44640e-a7e9-4288-88fe-b16c6cd3fa95",
   "metadata": {},
   "outputs": [],
   "source": [
    "spark.stop()"
   ]
  },
  {
   "cell_type": "code",
   "execution_count": null,
   "id": "b4f4045a-f9ea-459d-895f-02320c4d2643",
   "metadata": {},
   "outputs": [],
   "source": []
  }
 ],
 "metadata": {
  "kernelspec": {
   "display_name": "Spark 3 in Python 3",
   "language": "python",
   "name": "pyspark3"
  },
  "language_info": {
   "codemirror_mode": {
    "name": "ipython",
    "version": 3
   },
   "file_extension": ".py",
   "mimetype": "text/x-python",
   "name": "python",
   "nbconvert_exporter": "python",
   "pygments_lexer": "ipython3",
   "version": "3.9.5"
  }
 },
 "nbformat": 4,
 "nbformat_minor": 5
}
