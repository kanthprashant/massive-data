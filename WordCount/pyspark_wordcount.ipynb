{
 "cells": [
  {
   "cell_type": "code",
   "execution_count": 7,
   "id": "ee11aa85-00a0-476e-ad6c-a57aaf63fb25",
   "metadata": {},
   "outputs": [],
   "source": [
    "from pyspark.context import SparkContext"
   ]
  },
  {
   "cell_type": "code",
   "execution_count": 20,
   "id": "320df164-01a3-422b-9a52-29ea9149d754",
   "metadata": {},
   "outputs": [],
   "source": [
    "sc = SparkContext.getOrCreate()"
   ]
  },
  {
   "cell_type": "code",
   "execution_count": 21,
   "id": "da239483-f62c-4b5f-bc33-f2ab48450705",
   "metadata": {},
   "outputs": [],
   "source": [
    "lines=sc.textFile(\"input/text1.txt\") # sc stands for spark context\n",
    "words=lines.flatMap(lambda line: line.lower().split(\" \"))\n",
    "tuples=words.filter(lambda word: len(word)>=1).map(lambda word: (word[0], 1))\n",
    "counts=tuples.reduceByKey(lambda a,b: (a+b))\n",
    "# We split the input as lines and each line is split into words. \n",
    "# Each word's first letter is used as a key and a value of 1 is assigned to it. \n",
    "# The reduce by key adds all the values for a given key\n",
    "counts.coalesce(1, shuffle=True).saveAsTextFile(\"wordcount Pyspark output\")\n",
    "# Result will be saved in the folder “wc Pyspark output”. \n",
    "# The result will be in a textfile named part-00000\n",
    "countCollect = counts.collect() # This is used to display the result on the notebook\n",
    "#print(countCollect)"
   ]
  },
  {
   "cell_type": "code",
   "execution_count": 22,
   "id": "a52be582-2a75-4161-930f-5281bb7845ad",
   "metadata": {},
   "outputs": [],
   "source": [
    "sc.stop()"
   ]
  },
  {
   "cell_type": "code",
   "execution_count": null,
   "id": "1f220bf1-045c-42c5-b25b-a1274cb11c49",
   "metadata": {},
   "outputs": [],
   "source": []
  }
 ],
 "metadata": {
  "kernelspec": {
   "display_name": "Spark 3 in Python 3",
   "language": "python",
   "name": "pyspark3"
  },
  "language_info": {
   "codemirror_mode": {
    "name": "ipython",
    "version": 3
   },
   "file_extension": ".py",
   "mimetype": "text/x-python",
   "name": "python",
   "nbconvert_exporter": "python",
   "pygments_lexer": "ipython3",
   "version": "3.9.5"
  }
 },
 "nbformat": 4,
 "nbformat_minor": 5
}
